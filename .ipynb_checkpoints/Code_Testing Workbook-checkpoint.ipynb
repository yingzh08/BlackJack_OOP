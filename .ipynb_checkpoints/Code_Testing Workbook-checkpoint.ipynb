{
 "cells": [
  {
   "cell_type": "code",
   "execution_count": 225,
   "metadata": {},
   "outputs": [],
   "source": [
    "import random\n",
    "\n",
    "class CardDeck:\n",
    "    \n",
    "    def __init__(self, deck=list()):\n",
    "        self.deck = deck\n",
    "    \n",
    "    def create_deck(self):\n",
    "        deck_unique = ['A',2,3,4,5,6,7,8,9,10,'J','Q','K']\n",
    "        deck = list()\n",
    "        for item in deck_unique:\n",
    "            for i in range(0,4):\n",
    "                deck.append(item)\n",
    "        random.shuffle(deck)\n",
    "        self.deck = deck\n",
    "        print('New deck created.')\n",
    "    \n",
    "    def shuffle_deck(self):\n",
    "        random.shuffle(self.deck)\n",
    "        print('Deck shuffled.')"
   ]
  },
  {
   "cell_type": "code",
   "execution_count": 226,
   "metadata": {},
   "outputs": [],
   "source": [
    "c = CardDeck()"
   ]
  },
  {
   "cell_type": "code",
   "execution_count": 227,
   "metadata": {},
   "outputs": [
    {
     "name": "stdout",
     "output_type": "stream",
     "text": [
      "New deck created.\n"
     ]
    }
   ],
   "source": [
    "c.create_deck()"
   ]
  },
  {
   "cell_type": "code",
   "execution_count": 228,
   "metadata": {},
   "outputs": [
    {
     "name": "stdout",
     "output_type": "stream",
     "text": [
      "Deck shuffled.\n"
     ]
    }
   ],
   "source": [
    "c.shuffle_deck()"
   ]
  },
  {
   "cell_type": "code",
   "execution_count": 229,
   "metadata": {},
   "outputs": [
    {
     "data": {
      "text/plain": [
       "52"
      ]
     },
     "execution_count": 229,
     "metadata": {},
     "output_type": "execute_result"
    }
   ],
   "source": [
    "len(c.deck)"
   ]
  },
  {
   "cell_type": "code",
   "execution_count": 230,
   "metadata": {},
   "outputs": [
    {
     "name": "stdout",
     "output_type": "stream",
     "text": [
      "[5, 'Q', 10, 2, 'Q', 'A', 9, 6, 8, 'J', 7, 3, 9, 'A', 4, 10, 'A', 9, 7, 2, 8, 'Q', 6, 3, 4, 4, 'K', 3, 8, 5, 3, 5, 7, 9, 'A', 10, 6, 'K', 5, 'K', 2, 7, 4, 'Q', 8, 'J', 10, 6, 'K', 'J', 2, 'J']\n"
     ]
    }
   ],
   "source": [
    "#deck = c.deck\n",
    "print(c.deck)"
   ]
  },
  {
   "cell_type": "code",
   "execution_count": 240,
   "metadata": {},
   "outputs": [],
   "source": [
    "class PlayersHand(CardDeck):\n",
    "    \n",
    "    def __init__(self, current_hand = list(), points = 0):\n",
    "        self.current_hand = current_hand\n",
    "        self.points = points\n",
    "        CardDeck.__init__(self)\n",
    "        \n",
    "    def deal_cards(self, deck):\n",
    "        current_hand = list()\n",
    "        for i in range(0,2):\n",
    "            current_hand.append(deck.pop())\n",
    "        self.current_hand = current_hand\n",
    "\n",
    "#     def players_play(self):\n",
    "#         '''Player chooses either to hit or stand. If chosen hit, receive one more card from the\n",
    "#         bottom of the deck and place it on the players_hand. If chosen stand, receive no card. \n",
    "#         player skips the turn.\n",
    "#         '''\n",
    "#         while True: \n",
    "#             play = input('Human Player: hit or stand?')\n",
    "#             if play == 'hit':\n",
    "#                 self.current_hand.append(self.deck.pop())\n",
    "#                 print(f'Hit me!')\n",
    "#                 break\n",
    "\n",
    "#             elif play == 'stand':\n",
    "#                 print('Human Player skips the turn. No actions taken.')\n",
    "#                 break\n",
    "\n",
    "#             else:\n",
    "#                 print(\"Please provide valid answer. Type 'hit' or 'stand'.\")\n",
    "\n",
    "    def get_points(self):\n",
    "        self.points = 0\n",
    "        \n",
    "        for i in range(0,len(self.current_hand)): \n",
    "            print (self.current_hand[i])\n",
    "            if self.current_hand[i] != 'J' and self.current_hand[i] != 'Q' and self.current_hand[i] !='K' and self.current_hand[i] != 'A':\n",
    "                self.points += self.current_hand[i]\n",
    "\n",
    "            elif self.current_hand[i] == 'J' or self.current_hand[i] == 'Q' or self.current_hand[i] == 'K':\n",
    "                self.points = self.points + 10\n",
    "\n",
    "            elif self.current_hand[i] == 'A':\n",
    "                try:\n",
    "                    A_choice = int(input('Would you like A to be 1 or 11?'))\n",
    "                except ValueError:\n",
    "                    A_choice = int(input('Please enter numbers only. Would you like A to be 1 or 11?'))\n",
    "                else:\n",
    "                    self.points = self.points + A_choice\n",
    "                \n",
    "        return self.points"
   ]
  },
  {
   "cell_type": "code",
   "execution_count": 241,
   "metadata": {},
   "outputs": [],
   "source": [
    "ph = PlayersHand()"
   ]
  },
  {
   "cell_type": "code",
   "execution_count": 242,
   "metadata": {},
   "outputs": [
    {
     "data": {
      "text/plain": [
       "[]"
      ]
     },
     "execution_count": 242,
     "metadata": {},
     "output_type": "execute_result"
    }
   ],
   "source": [
    "ph.current_hand"
   ]
  },
  {
   "cell_type": "code",
   "execution_count": 243,
   "metadata": {},
   "outputs": [],
   "source": [
    "ph.deal_cards(c.deck)"
   ]
  },
  {
   "cell_type": "code",
   "execution_count": 244,
   "metadata": {},
   "outputs": [
    {
     "data": {
      "text/plain": [
       "['J', 'K']"
      ]
     },
     "execution_count": 244,
     "metadata": {},
     "output_type": "execute_result"
    }
   ],
   "source": [
    "ph.current_hand"
   ]
  },
  {
   "cell_type": "code",
   "execution_count": 245,
   "metadata": {},
   "outputs": [
    {
     "data": {
      "text/plain": [
       "48"
      ]
     },
     "execution_count": 245,
     "metadata": {},
     "output_type": "execute_result"
    }
   ],
   "source": [
    "len(c.deck)"
   ]
  },
  {
   "cell_type": "code",
   "execution_count": 246,
   "metadata": {},
   "outputs": [
    {
     "data": {
      "text/plain": [
       "['J', 'K']"
      ]
     },
     "execution_count": 246,
     "metadata": {},
     "output_type": "execute_result"
    }
   ],
   "source": [
    "ph.current_hand"
   ]
  },
  {
   "cell_type": "code",
   "execution_count": 247,
   "metadata": {},
   "outputs": [
    {
     "name": "stdout",
     "output_type": "stream",
     "text": [
      "3428\n"
     ]
    }
   ],
   "source": [
    "deckID = \"\"\n",
    "for num in range(0,4):\n",
    "    deckID += str(random.randint(1,9))\n",
    "print(deckID)"
   ]
  },
  {
   "cell_type": "code",
   "execution_count": 248,
   "metadata": {
    "scrolled": true
   },
   "outputs": [
    {
     "name": "stdout",
     "output_type": "stream",
     "text": [
      "J\n",
      "K\n"
     ]
    },
    {
     "data": {
      "text/plain": [
       "20"
      ]
     },
     "execution_count": 248,
     "metadata": {},
     "output_type": "execute_result"
    }
   ],
   "source": [
    "ph.get_points()"
   ]
  },
  {
   "cell_type": "code",
   "execution_count": null,
   "metadata": {},
   "outputs": [],
   "source": [
    "def check_win (player, dealer, countdealer):\n",
    "    ''' check the player and dealer's point to determine\n",
    "    end game scenarios. If no end game scenarios have reached,\n",
    "    continue game play\n",
    "\n",
    "    Input:\n",
    "        player: human player object\n",
    "        dealer: computer dealer object\n",
    "        countdealer: Boolean indicating whether to count dealers points\n",
    "    '''\n",
    "    end_round = False\n",
    "    \n",
    "    if countdealer == False:\n",
    "        #player.count_points()\n",
    "\n",
    "        # scenario 1: player bust\n",
    "        if playerbust:\n",
    "            print(f\"Human player has gone bust!. Your current point total is: {playerpoints}\")\n",
    "            #player.lose_bet()\n",
    "            print('Computer dealer won. Player 1 surrender the bet')\n",
    "            #dealer.collect_bet()\n",
    "            end_round = True\n",
    "        else:\n",
    "            print(f\"Human player's current point total is: {player.points}\") \n",
    "\n",
    "    else:\n",
    "        #player.count_points()\n",
    "        #dealer.count_points()\n",
    "\n",
    "        # scenario 2: dealer bust                \n",
    "        if dealerbust:\n",
    "            print('Dealer had gone bust. Human player won. Human player gets double the bet amount.')\n",
    "            #player.win_double()\n",
    "            #dealer.lose_bet()\n",
    "            \n",
    "        else:\n",
    "            print(f\"Dealer's current point total is: {dealerpoints}\")\n",
    "            \n",
    "            # scenario 3: no one busts, dealer win\n",
    "            if dealerpoints > playerpoints:\n",
    "                print(f\"Computer dealer won. Human player surrender the bet\")\n",
    "                #player.lose_bet()\n",
    "                #dealer.collect_bet()\n",
    "                \n",
    "            # scenario 4: no one busts, dealer loses\n",
    "            elif dealerpoints < playerpoints:\n",
    "                print(\"Human player won. Human player gets double the bet amount.\")\n",
    "                #player.win_double()\n",
    "                #dealer.lose_bet()\n",
    "    \n",
    "            # scenario 5: no one busts, it is a tie\n",
    "            elif dealerpoints == playerpoints:\n",
    "                print('It is a tie.')\n",
    "                player.tie_return()\n",
    "                dealer.tie_return()\n",
    "        \n",
    "        # end game\n",
    "        end_round = True\n",
    "    return end_round"
   ]
  },
  {
   "cell_type": "code",
   "execution_count": null,
   "metadata": {},
   "outputs": [],
   "source": [
    "#Initialize\n",
    "playerpoints = 10\n",
    "playerbust = False\n",
    "dealerpoints = 15\n",
    "dealerbust = False"
   ]
  },
  {
   "cell_type": "code",
   "execution_count": null,
   "metadata": {},
   "outputs": [],
   "source": [
    "#Testing\n"
   ]
  }
 ],
 "metadata": {
  "kernelspec": {
   "display_name": "Python 3",
   "language": "python",
   "name": "python3"
  },
  "language_info": {
   "codemirror_mode": {
    "name": "ipython",
    "version": 3
   },
   "file_extension": ".py",
   "mimetype": "text/x-python",
   "name": "python",
   "nbconvert_exporter": "python",
   "pygments_lexer": "ipython3",
   "version": "3.7.4"
  }
 },
 "nbformat": 4,
 "nbformat_minor": 2
}
